{
 "cells": [
  {
   "cell_type": "code",
   "execution_count": 3,
   "metadata": {},
   "outputs": [],
   "source": [
    "import geopy\n",
    "\n",
    "from geopy.geocoders import Nominatim\n"
   ]
  },
  {
   "cell_type": "code",
   "execution_count": 5,
   "metadata": {},
   "outputs": [
    {
     "name": "stdout",
     "output_type": "stream",
     "text": [
      "('Bowdon', 'North Dakota', 'United States of America')\n"
     ]
    }
   ],
   "source": [
    "geolocator = Nominatim(user_agent=\"geoapiExercises\")\n",
    "def city_state_country(coord):\n",
    "    location = geolocator.reverse(coord, exactly_one=True)\n",
    "    address = location.raw['address']\n",
    "    city = address.get('city', '')\n",
    "    state = address.get('state', '')\n",
    "    country = address.get('country', '')\n",
    "    return city, state, country\n",
    "print(city_state_country(\"47.470706, -99.704723\"))\n"
   ]
  },
  {
   "cell_type": "code",
   "execution_count": 18,
   "metadata": {},
   "outputs": [
    {
     "name": "stdout",
     "output_type": "stream",
     "text": [
      "Location address 1: Bangalore\n",
      "Latitude and Longitude of the said address 1:\n",
      "(12.9791198, 77.5912997)\n",
      "Location address 2: Warsaw\n",
      "Latitude and Longitude of the said address 2:\n",
      "(52.2337172, 21.07141112883227)\n"
     ]
    }
   ],
   "source": [
    "geolocator = Nominatim(user_agent=\"geoapiExercises\")\n",
    "ladd1 = \"Bangalore\"\n",
    "print(\"Location address 1:\",ladd1)\n",
    "location1 = geolocator.geocode(ladd1)\n",
    "print(\"Latitude and Longitude of the said address 1:\")\n",
    "print((location1.latitude, location1.longitude))\n",
    "\n",
    "ladd2 = \"Warsaw\"\n",
    "print(\"Location address 2:\",ladd2)\n",
    "location2 = geolocator.geocode(ladd2)\n",
    "print(\"Latitude and Longitude of the said address 2:\")\n",
    "print((location2.latitude, location2.longitude))\n"
   ]
  },
  {
   "cell_type": "code",
   "execution_count": 14,
   "metadata": {},
   "outputs": [
    {
     "data": {
      "text/plain": [
       "Point(12.9791198, 77.5912997, 0.0)"
      ]
     },
     "execution_count": 14,
     "metadata": {},
     "output_type": "execute_result"
    }
   ],
   "source": [
    "location1.point\n"
   ]
  },
  {
   "cell_type": "code",
   "execution_count": 19,
   "metadata": {},
   "outputs": [
    {
     "name": "stdout",
     "output_type": "stream",
     "text": [
      "Distance between Bangalore and Warsaw (in km):\n",
      "6622.293897159648  kms\n"
     ]
    }
   ],
   "source": [
    "from geopy import distance\n",
    "print(\"Distance between Bangalore and Warsaw (in km):\")\n",
    "print(distance.distance(location1.point, location2.point).km,\" kms\")\n"
   ]
  }
 ],
 "metadata": {
  "kernelspec": {
   "display_name": "Python 3",
   "language": "python",
   "name": "python3"
  },
  "language_info": {
   "codemirror_mode": {
    "name": "ipython",
    "version": 3
   },
   "file_extension": ".py",
   "mimetype": "text/x-python",
   "name": "python",
   "nbconvert_exporter": "python",
   "pygments_lexer": "ipython3",
   "version": "3.7.3"
  }
 },
 "nbformat": 4,
 "nbformat_minor": 2
}
